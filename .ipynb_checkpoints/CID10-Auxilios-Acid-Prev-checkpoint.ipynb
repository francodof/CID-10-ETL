{
 "cells": [
  {
   "cell_type": "markdown",
   "id": "05ed82d6-de73-43f4-abe0-919b002f91dd",
   "metadata": {
    "tags": []
   },
   "source": [
    "## Ajustes"
   ]
  },
  {
   "cell_type": "code",
   "execution_count": 35,
   "id": "ca7ff40c-4aaf-4cfa-87b6-64c5960da8f0",
   "metadata": {},
   "outputs": [],
   "source": [
    "import pandas as pd\n",
    "import numpy as np"
   ]
  },
  {
   "cell_type": "code",
   "execution_count": 36,
   "id": "81ff5696-351c-4aab-9181-7ae3bac50243",
   "metadata": {},
   "outputs": [
    {
     "data": {
      "text/plain": [
       "['Acidentario/datasets_tratados/2017.csv',\n",
       " 'Acidentario/datasets_tratados/2018.csv',\n",
       " 'Acidentario/datasets_tratados/2019.csv',\n",
       " 'Acidentario/datasets_tratados/2020.csv',\n",
       " 'Acidentario/datasets_tratados/2021.csv']"
      ]
     },
     "execution_count": 36,
     "metadata": {},
     "output_type": "execute_result"
    }
   ],
   "source": [
    "# Cria uma lista com o path dos datasets tratados (concessões de auxílios acidentarios)\n",
    "lista_acid = []\n",
    "for i in range(2017, 2022):\n",
    "    u = 'Acidentario/datasets_tratados/' +str(i) + '.csv'    \n",
    "    lista_acid.append(u)\n",
    "lista_acid"
   ]
  },
  {
   "cell_type": "code",
   "execution_count": 37,
   "id": "9ac25e79-3b6d-444d-b41e-76e361aca3d0",
   "metadata": {},
   "outputs": [
    {
     "data": {
      "text/plain": [
       "['Previdenciario/datasets_tratados/2017.csv',\n",
       " 'Previdenciario/datasets_tratados/2018.csv',\n",
       " 'Previdenciario/datasets_tratados/2019.csv',\n",
       " 'Previdenciario/datasets_tratados/2020.csv',\n",
       " 'Previdenciario/datasets_tratados/2021.csv']"
      ]
     },
     "execution_count": 37,
     "metadata": {},
     "output_type": "execute_result"
    }
   ],
   "source": [
    "# Cria uma lista com o path dos datasets tratados (concessões de auxílios previdenciários)\n",
    "lista_prev = []\n",
    "for i in range(2017, 2022):\n",
    "    u = 'Previdenciario/datasets_tratados/' +str(i) + '.csv'    \n",
    "    lista_prev.append(u)\n",
    "lista_prev"
   ]
  },
  {
   "cell_type": "code",
   "execution_count": 38,
   "id": "f58935dd-8a91-452a-8e99-531c47250c9d",
   "metadata": {},
   "outputs": [],
   "source": [
    "# Carrega os datasets\n",
    "# Auxílios Acidentários\n",
    "df2017a = pd.read_csv(lista_acid[0], sep=';', on_bad_lines='skip')\n",
    "df2018a = pd.read_csv(lista_acid[1], sep=';', on_bad_lines='skip')\n",
    "df2019a = pd.read_csv(lista_acid[2], sep=';', on_bad_lines='skip')\n",
    "df2020a = pd.read_csv(lista_acid[3], sep=';', on_bad_lines='skip')\n",
    "df2021a = pd.read_csv(lista_acid[4], sep=';', on_bad_lines='skip')\n",
    "\n",
    "# Auxílios Previdenciários\n",
    "df2017p = pd.read_csv(lista_prev[0], sep=';', on_bad_lines='skip')\n",
    "df2018p = pd.read_csv(lista_prev[1], sep=';', on_bad_lines='skip')\n",
    "df2019p = pd.read_csv(lista_prev[2], sep=';', on_bad_lines='skip')\n",
    "df2020p = pd.read_csv(lista_prev[3], sep=';', on_bad_lines='skip')\n",
    "df2021p = pd.read_csv(lista_prev[4], sep=';', on_bad_lines='skip')"
   ]
  },
  {
   "cell_type": "code",
   "execution_count": 39,
   "id": "0b716a42-33e0-4de0-9548-724731339f81",
   "metadata": {},
   "outputs": [],
   "source": [
    "# Remove linhas finais e outras\n",
    "df2017a.drop(df2017a.index[2067:], inplace = True)\n",
    "df2018a.drop(df2018a.index[2067:], inplace = True)\n",
    "df2019a.drop(df2019a.index[2067:], inplace = True)\n",
    "df2020a.drop(df2020a.index[2067:], inplace = True)\n",
    "df2021a.drop(df2021a.index[754:], inplace = True)\n",
    "\n",
    "df2017p.drop(df2017p.index[2067:], inplace = True)\n",
    "df2018p.drop(df2018p.index[2067:], inplace = True)\n",
    "df2019p.drop(df2019p.index[2067:], inplace = True)\n",
    "df2020p.drop(df2020p.index[2067:], inplace = True)\n",
    "df2021p.drop(df2021p.index[1707:], inplace = True)\n",
    "\n",
    "\n",
    "words = ['Total', 'Capítulo', 'Capitulo']\n",
    "pattern2 = '|'.join(words)\n",
    "\n",
    "df2017a = df2017a[~df2017a['CID10 CATEGORIA'].str.contains(pattern2)]\n",
    "df2018a = df2018a[~df2018a['CID10 CATEGORIA'].str.contains(pattern2)]\n",
    "df2019a = df2019a[~df2019a['CID10 CATEGORIA'].str.contains(pattern2)]\n",
    "df2020a = df2020a[~df2020a['CID10 CATEGORIA'].str.contains(pattern2)]\n",
    "df2021a = df2021a[~df2021a['CID10 CATEGORIA'].str.contains(pattern2)]\n",
    "\n",
    "df2017p = df2017p[~df2017p['CID10 CATEGORIA'].str.contains(pattern2)]\n",
    "df2018p = df2018p[~df2018p['CID10 CATEGORIA'].str.contains(pattern2)]\n",
    "df2019p = df2019p[~df2019p['CID10 CATEGORIA'].str.contains(pattern2)]\n",
    "df2020p = df2020p[~df2020p['CID10 CATEGORIA'].str.contains(pattern2)]\n",
    "df2021p = df2021p[~df2021p['CID10 CATEGORIA'].str.contains(pattern2)]"
   ]
  },
  {
   "cell_type": "code",
   "execution_count": 40,
   "id": "33b241fe-638e-403b-a82a-4bbe35d38c19",
   "metadata": {},
   "outputs": [],
   "source": [
    "# Divide e reordena colunas, criando uma variável só para os códigos da CID\n",
    "def aplicaSplit(df, ano):\n",
    "    df[['Cod', 'Descricao']] = df['CID10 CATEGORIA'].str.split(':', expand=True)\n",
    "    df.drop(['CID10 CATEGORIA'], axis=1, inplace=True)\n",
    "    #df = df['Descricao', 'Total_' + str(ano)]\n",
    "    df.sort_index(axis=1, inplace=True)    "
   ]
  },
  {
   "cell_type": "code",
   "execution_count": 41,
   "id": "c76a3380-bbd2-4f96-93f7-3bd418bc270c",
   "metadata": {},
   "outputs": [],
   "source": [
    "aplicaSplit(df2017a, 2017)\n",
    "aplicaSplit(df2018a, 2018)\n",
    "aplicaSplit(df2019a, 2019)\n",
    "aplicaSplit(df2020a, 2020)\n",
    "aplicaSplit(df2021a, 2021)\n",
    "\n",
    "aplicaSplit(df2017p, 2017)\n",
    "aplicaSplit(df2018p, 2018)\n",
    "aplicaSplit(df2019p, 2019)\n",
    "aplicaSplit(df2020p, 2020)\n",
    "aplicaSplit(df2021p, 2021)"
   ]
  },
  {
   "cell_type": "code",
   "execution_count": 42,
   "id": "3f3e0083-5f3b-4619-a3de-ca1a96e29aae",
   "metadata": {},
   "outputs": [
    {
     "name": "stdout",
     "output_type": "stream",
     "text": [
      "Auxílio-doença acidentário:\n",
      "(2042, 3)\n",
      "(2042, 3)\n",
      "(2042, 3)\n",
      "(2042, 3)\n",
      "(730, 3)\n",
      "\n",
      "Auxílio-doença previdenciário:\n",
      "(2042, 3)\n",
      "(2042, 3)\n",
      "(2042, 3)\n",
      "(2042, 3)\n",
      "(1682, 3)\n"
     ]
    }
   ],
   "source": [
    "# Dimensões\n",
    "print('Auxílio-doença acidentário:')\n",
    "print(df2017a.shape)\n",
    "print(df2018a.shape)\n",
    "print(df2019a.shape)\n",
    "print(df2020a.shape)\n",
    "print(df2021a.shape)\n",
    "print()\n",
    "print('Auxílio-doença previdenciário:')\n",
    "print(df2017p.shape)\n",
    "print(df2018p.shape)\n",
    "print(df2019p.shape)\n",
    "print(df2020p.shape)\n",
    "print(df2021p.shape)"
   ]
  },
  {
   "cell_type": "code",
   "execution_count": 43,
   "id": "fed8524f-a9d6-43d6-8ea2-d73e0312141a",
   "metadata": {},
   "outputs": [
    {
     "data": {
      "text/html": [
       "<div>\n",
       "<style scoped>\n",
       "    .dataframe tbody tr th:only-of-type {\n",
       "        vertical-align: middle;\n",
       "    }\n",
       "\n",
       "    .dataframe tbody tr th {\n",
       "        vertical-align: top;\n",
       "    }\n",
       "\n",
       "    .dataframe thead th {\n",
       "        text-align: right;\n",
       "    }\n",
       "</style>\n",
       "<table border=\"1\" class=\"dataframe\">\n",
       "  <thead>\n",
       "    <tr style=\"text-align: right;\">\n",
       "      <th></th>\n",
       "      <th>Cod</th>\n",
       "      <th>Descricao</th>\n",
       "      <th>Total_2017</th>\n",
       "    </tr>\n",
       "  </thead>\n",
       "  <tbody>\n",
       "    <tr>\n",
       "      <th>2</th>\n",
       "      <td>A00</td>\n",
       "      <td>Colera</td>\n",
       "      <td>0</td>\n",
       "    </tr>\n",
       "    <tr>\n",
       "      <th>3</th>\n",
       "      <td>A01</td>\n",
       "      <td>Febres Tifoide e Paratifoide</td>\n",
       "      <td>0</td>\n",
       "    </tr>\n",
       "    <tr>\n",
       "      <th>4</th>\n",
       "      <td>A02</td>\n",
       "      <td>Outras Infeccoes por Salmonella</td>\n",
       "      <td>0</td>\n",
       "    </tr>\n",
       "    <tr>\n",
       "      <th>5</th>\n",
       "      <td>A03</td>\n",
       "      <td>Shiguelose</td>\n",
       "      <td>0</td>\n",
       "    </tr>\n",
       "    <tr>\n",
       "      <th>6</th>\n",
       "      <td>A04</td>\n",
       "      <td>Outras Infeccoes Intestinais Bacterianas</td>\n",
       "      <td>1</td>\n",
       "    </tr>\n",
       "  </tbody>\n",
       "</table>\n",
       "</div>"
      ],
      "text/plain": [
       "   Cod                                 Descricao  Total_2017\n",
       "2  A00                                    Colera           0\n",
       "3  A01              Febres Tifoide e Paratifoide           0\n",
       "4  A02           Outras Infeccoes por Salmonella           0\n",
       "5  A03                                Shiguelose           0\n",
       "6  A04  Outras Infeccoes Intestinais Bacterianas           1"
      ]
     },
     "execution_count": 43,
     "metadata": {},
     "output_type": "execute_result"
    }
   ],
   "source": [
    "# Verifica o dataframe\n",
    "df2017a.head()"
   ]
  },
  {
   "cell_type": "markdown",
   "id": "0ff71932-e426-4528-939c-034ba09e68e6",
   "metadata": {},
   "source": [
    "## Análises"
   ]
  },
  {
   "cell_type": "code",
   "execution_count": 64,
   "id": "b3e5e39f-88ab-4044-96f8-0ff5b3885ba1",
   "metadata": {},
   "outputs": [
    {
     "name": "stderr",
     "output_type": "stream",
     "text": [
      "C:\\Windows\\Temp\\ipykernel_4600\\3952003581.py:4: FutureWarning: Passing 'suffixes' which cause duplicate columns {'Descricao_x'} in the result is deprecated and will raise a MergeError in a future version.\n",
      "  df_merged = reduce(lambda left,right: pd.merge(left,right,on=['Cod'],\n"
     ]
    }
   ],
   "source": [
    "from functools import reduce\n",
    "data_frames = [df2017a, df2018a, df2019a, df2020a, df2021a]\n",
    "\n",
    "df_merged = reduce(lambda left,right: pd.merge(left,right,on=['Cod'],\n",
    "        how='left', sort=True), data_frames)"
   ]
  },
  {
   "cell_type": "code",
   "execution_count": 66,
   "id": "d181efa1-e39a-4e51-ac49-2d8b0060e62b",
   "metadata": {},
   "outputs": [],
   "source": [
    "df_merged.drop(['Descricao_x', 'Descricao_y', 'Descricao'], axis=1, inplace=True)"
   ]
  },
  {
   "cell_type": "code",
   "execution_count": 67,
   "id": "4a97294a-0ef9-4485-930e-696914aa9a78",
   "metadata": {},
   "outputs": [
    {
     "data": {
      "text/html": [
       "<div>\n",
       "<style scoped>\n",
       "    .dataframe tbody tr th:only-of-type {\n",
       "        vertical-align: middle;\n",
       "    }\n",
       "\n",
       "    .dataframe tbody tr th {\n",
       "        vertical-align: top;\n",
       "    }\n",
       "\n",
       "    .dataframe thead th {\n",
       "        text-align: right;\n",
       "    }\n",
       "</style>\n",
       "<table border=\"1\" class=\"dataframe\">\n",
       "  <thead>\n",
       "    <tr style=\"text-align: right;\">\n",
       "      <th></th>\n",
       "      <th>Cod</th>\n",
       "      <th>Total_2017</th>\n",
       "      <th>Total_2018</th>\n",
       "      <th>Total_2019</th>\n",
       "      <th>Total_2020</th>\n",
       "      <th>Total_2021</th>\n",
       "    </tr>\n",
       "  </thead>\n",
       "  <tbody>\n",
       "    <tr>\n",
       "      <th>0</th>\n",
       "      <td>A00</td>\n",
       "      <td>0</td>\n",
       "      <td>0</td>\n",
       "      <td>0</td>\n",
       "      <td>2</td>\n",
       "      <td>2.0</td>\n",
       "    </tr>\n",
       "    <tr>\n",
       "      <th>1</th>\n",
       "      <td>A01</td>\n",
       "      <td>0</td>\n",
       "      <td>0</td>\n",
       "      <td>0</td>\n",
       "      <td>0</td>\n",
       "      <td>NaN</td>\n",
       "    </tr>\n",
       "    <tr>\n",
       "      <th>2</th>\n",
       "      <td>A02</td>\n",
       "      <td>0</td>\n",
       "      <td>1</td>\n",
       "      <td>0</td>\n",
       "      <td>0</td>\n",
       "      <td>1.0</td>\n",
       "    </tr>\n",
       "    <tr>\n",
       "      <th>3</th>\n",
       "      <td>A03</td>\n",
       "      <td>0</td>\n",
       "      <td>0</td>\n",
       "      <td>0</td>\n",
       "      <td>0</td>\n",
       "      <td>NaN</td>\n",
       "    </tr>\n",
       "    <tr>\n",
       "      <th>4</th>\n",
       "      <td>A04</td>\n",
       "      <td>1</td>\n",
       "      <td>0</td>\n",
       "      <td>1</td>\n",
       "      <td>0</td>\n",
       "      <td>NaN</td>\n",
       "    </tr>\n",
       "    <tr>\n",
       "      <th>...</th>\n",
       "      <td>...</td>\n",
       "      <td>...</td>\n",
       "      <td>...</td>\n",
       "      <td>...</td>\n",
       "      <td>...</td>\n",
       "      <td>...</td>\n",
       "    </tr>\n",
       "    <tr>\n",
       "      <th>2037</th>\n",
       "      <td>Z95</td>\n",
       "      <td>0</td>\n",
       "      <td>2</td>\n",
       "      <td>0</td>\n",
       "      <td>0</td>\n",
       "      <td>NaN</td>\n",
       "    </tr>\n",
       "    <tr>\n",
       "      <th>2038</th>\n",
       "      <td>Z96</td>\n",
       "      <td>1</td>\n",
       "      <td>0</td>\n",
       "      <td>2</td>\n",
       "      <td>0</td>\n",
       "      <td>NaN</td>\n",
       "    </tr>\n",
       "    <tr>\n",
       "      <th>2039</th>\n",
       "      <td>Z97</td>\n",
       "      <td>0</td>\n",
       "      <td>0</td>\n",
       "      <td>1</td>\n",
       "      <td>0</td>\n",
       "      <td>NaN</td>\n",
       "    </tr>\n",
       "    <tr>\n",
       "      <th>2040</th>\n",
       "      <td>Z98</td>\n",
       "      <td>55</td>\n",
       "      <td>72</td>\n",
       "      <td>97</td>\n",
       "      <td>36</td>\n",
       "      <td>31.0</td>\n",
       "    </tr>\n",
       "    <tr>\n",
       "      <th>2041</th>\n",
       "      <td>Z99</td>\n",
       "      <td>0</td>\n",
       "      <td>0</td>\n",
       "      <td>0</td>\n",
       "      <td>0</td>\n",
       "      <td>NaN</td>\n",
       "    </tr>\n",
       "  </tbody>\n",
       "</table>\n",
       "<p>2042 rows × 6 columns</p>\n",
       "</div>"
      ],
      "text/plain": [
       "      Cod  Total_2017  Total_2018  Total_2019  Total_2020  Total_2021\n",
       "0     A00           0           0           0           2         2.0\n",
       "1     A01           0           0           0           0         NaN\n",
       "2     A02           0           1           0           0         1.0\n",
       "3     A03           0           0           0           0         NaN\n",
       "4     A04           1           0           1           0         NaN\n",
       "...   ...         ...         ...         ...         ...         ...\n",
       "2037  Z95           0           2           0           0         NaN\n",
       "2038  Z96           1           0           2           0         NaN\n",
       "2039  Z97           0           0           1           0         NaN\n",
       "2040  Z98          55          72          97          36        31.0\n",
       "2041  Z99           0           0           0           0         NaN\n",
       "\n",
       "[2042 rows x 6 columns]"
      ]
     },
     "execution_count": 67,
     "metadata": {},
     "output_type": "execute_result"
    }
   ],
   "source": [
    "df_merged"
   ]
  },
  {
   "cell_type": "code",
   "execution_count": 68,
   "id": "74470151-c97a-448e-90ea-6dd98b74cbde",
   "metadata": {},
   "outputs": [
    {
     "data": {
      "text/plain": [
       "Cod              0\n",
       "Total_2017       0\n",
       "Total_2018       0\n",
       "Total_2019       0\n",
       "Total_2020       0\n",
       "Total_2021    1317\n",
       "dtype: int64"
      ]
     },
     "execution_count": 68,
     "metadata": {},
     "output_type": "execute_result"
    }
   ],
   "source": [
    "df_merged.isna().sum()"
   ]
  },
  {
   "cell_type": "code",
   "execution_count": 71,
   "id": "ed4fee9d-f03f-4008-bdcc-a01d6a9f76d2",
   "metadata": {},
   "outputs": [
    {
     "data": {
      "text/html": [
       "<div>\n",
       "<style scoped>\n",
       "    .dataframe tbody tr th:only-of-type {\n",
       "        vertical-align: middle;\n",
       "    }\n",
       "\n",
       "    .dataframe tbody tr th {\n",
       "        vertical-align: top;\n",
       "    }\n",
       "\n",
       "    .dataframe thead th {\n",
       "        text-align: right;\n",
       "    }\n",
       "</style>\n",
       "<table border=\"1\" class=\"dataframe\">\n",
       "  <thead>\n",
       "    <tr style=\"text-align: right;\">\n",
       "      <th></th>\n",
       "      <th>Cod</th>\n",
       "      <th>Total_2017</th>\n",
       "      <th>Total_2018</th>\n",
       "      <th>Total_2019</th>\n",
       "      <th>Total_2020</th>\n",
       "      <th>Total_2021</th>\n",
       "    </tr>\n",
       "  </thead>\n",
       "  <tbody>\n",
       "    <tr>\n",
       "      <th>447</th>\n",
       "      <td>F42</td>\n",
       "      <td>21</td>\n",
       "      <td>30</td>\n",
       "      <td>24</td>\n",
       "      <td>11</td>\n",
       "      <td>29.0</td>\n",
       "    </tr>\n",
       "    <tr>\n",
       "      <th>2041</th>\n",
       "      <td>Z99</td>\n",
       "      <td>0</td>\n",
       "      <td>0</td>\n",
       "      <td>0</td>\n",
       "      <td>0</td>\n",
       "      <td>NaN</td>\n",
       "    </tr>\n",
       "  </tbody>\n",
       "</table>\n",
       "</div>"
      ],
      "text/plain": [
       "      Cod  Total_2017  Total_2018  Total_2019  Total_2020  Total_2021\n",
       "447   F42          21          30          24          11        29.0\n",
       "2041  Z99           0           0           0           0         NaN"
      ]
     },
     "execution_count": 71,
     "metadata": {},
     "output_type": "execute_result"
    }
   ],
   "source": [
    "df_merged[df_merged['Cod'].str.startswith(('Z99', 'F42'))]"
   ]
  },
  {
   "cell_type": "code",
   "execution_count": 81,
   "id": "b2c567b9-2bf9-487d-b985-d603a0517dd3",
   "metadata": {},
   "outputs": [
    {
     "data": {
      "text/html": [
       "<div>\n",
       "<style scoped>\n",
       "    .dataframe tbody tr th:only-of-type {\n",
       "        vertical-align: middle;\n",
       "    }\n",
       "\n",
       "    .dataframe tbody tr th {\n",
       "        vertical-align: top;\n",
       "    }\n",
       "\n",
       "    .dataframe thead th {\n",
       "        text-align: right;\n",
       "    }\n",
       "</style>\n",
       "<table border=\"1\" class=\"dataframe\">\n",
       "  <thead>\n",
       "    <tr style=\"text-align: right;\">\n",
       "      <th></th>\n",
       "      <th>Cod</th>\n",
       "      <th>Descricao</th>\n",
       "      <th>Total_2021</th>\n",
       "    </tr>\n",
       "  </thead>\n",
       "  <tbody>\n",
       "  </tbody>\n",
       "</table>\n",
       "</div>"
      ],
      "text/plain": [
       "Empty DataFrame\n",
       "Columns: [Cod, Descricao, Total_2021]\n",
       "Index: []"
      ]
     },
     "execution_count": 81,
     "metadata": {},
     "output_type": "execute_result"
    }
   ],
   "source": [
    "df2021a[df2021a.index == 0]"
   ]
  },
  {
   "cell_type": "code",
   "execution_count": 86,
   "id": "4247913b-cced-453c-ba71-6ec41d5500ed",
   "metadata": {},
   "outputs": [
    {
     "data": {
      "text/html": [
       "<div>\n",
       "<style scoped>\n",
       "    .dataframe tbody tr th:only-of-type {\n",
       "        vertical-align: middle;\n",
       "    }\n",
       "\n",
       "    .dataframe tbody tr th {\n",
       "        vertical-align: top;\n",
       "    }\n",
       "\n",
       "    .dataframe thead th {\n",
       "        text-align: right;\n",
       "    }\n",
       "</style>\n",
       "<table border=\"1\" class=\"dataframe\">\n",
       "  <thead>\n",
       "    <tr style=\"text-align: right;\">\n",
       "      <th></th>\n",
       "      <th>Cod</th>\n",
       "      <th>Descricao</th>\n",
       "      <th>Total_2021</th>\n",
       "    </tr>\n",
       "  </thead>\n",
       "  <tbody>\n",
       "    <tr>\n",
       "      <th>126</th>\n",
       "      <td>F42</td>\n",
       "      <td>Transtorno Obsessivo-Compulsivo</td>\n",
       "      <td>29.0</td>\n",
       "    </tr>\n",
       "  </tbody>\n",
       "</table>\n",
       "</div>"
      ],
      "text/plain": [
       "     Cod                        Descricao  Total_2021\n",
       "126  F42  Transtorno Obsessivo-Compulsivo        29.0"
      ]
     },
     "execution_count": 86,
     "metadata": {},
     "output_type": "execute_result"
    }
   ],
   "source": [
    "df2021a[df2021a['Cod'].str.contains('F42')]"
   ]
  },
  {
   "cell_type": "code",
   "execution_count": null,
   "id": "bc78c0a3-9406-45e7-9c4e-762d0e3c6df2",
   "metadata": {},
   "outputs": [],
   "source": []
  }
 ],
 "metadata": {
  "kernelspec": {
   "display_name": "Python 3 (ipykernel)",
   "language": "python",
   "name": "python3"
  },
  "language_info": {
   "codemirror_mode": {
    "name": "ipython",
    "version": 3
   },
   "file_extension": ".py",
   "mimetype": "text/x-python",
   "name": "python",
   "nbconvert_exporter": "python",
   "pygments_lexer": "ipython3",
   "version": "3.9.12"
  }
 },
 "nbformat": 4,
 "nbformat_minor": 5
}
