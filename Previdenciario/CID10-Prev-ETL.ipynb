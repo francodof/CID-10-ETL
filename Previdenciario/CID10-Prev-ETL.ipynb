{
 "cells": [
  {
   "cell_type": "markdown",
   "id": "d98d74de-9fc9-4732-a2de-221a4824aa54",
   "metadata": {},
   "source": [
    "## Estatísticas Anuais - CID-10 de auxílios por incapacidade temporária \"previdenciários\" (sem relação com o trabalho) \n",
    "\n",
    "Arquivos (Acidentários) baixados de: https://www.gov.br/trabalho-e-previdencia/pt-br/assuntos/previdencia-social/saude-e-seguranca-do-trabalhador/dados-de-acidentes-do-trabalho/tabelas-cid-10"
   ]
  },
  {
   "cell_type": "markdown",
   "id": "9babbebe-4956-473a-8f9d-dfe015d41504",
   "metadata": {
    "tags": []
   },
   "source": [
    "### Link dos datasets utilizados e gerados por este notebook\n",
    "\n",
    "https://drive.google.com/drive/folders/1ZvH_MjFpXiVSVAV-RT_TxpaY5T9pFnWu?usp=sharing"
   ]
  },
  {
   "cell_type": "markdown",
   "id": "30bbed4f-1222-49c3-9888-069869fa5d98",
   "metadata": {},
   "source": [
    "Este notebook realiza algumas transformações e limpezas dos datasets obtidos do Ministério do Trabalho e Previdência.\n",
    "\n",
    "Ao fim dos processos, pode-se obter subconjuntos de dados mais limpos, podendo fazer a junção por colunas com totais anuais, filtrar as categorias de interesse, bem como gerar subsets por seleção de termos específicos em determinadas linhas.\n",
    "\n",
    "Devido ao modelo dos datasets disponibilizados pelo referido órgão, os processos abaixo só se aplicam aos dados de 2017 em diante. Dados anteriores a 2017 estão disponíveis no site acima em formato pdf."
   ]
  },
  {
   "cell_type": "code",
   "execution_count": 1,
   "id": "73c14bca-6232-41c3-98a2-7eb372759b43",
   "metadata": {},
   "outputs": [],
   "source": [
    "# Imports\n",
    "import pandas as pd\n",
    "import numpy as np\n",
    "\n",
    "import warnings\n",
    "warnings.filterwarnings('ignore')"
   ]
  },
  {
   "cell_type": "code",
   "execution_count": 2,
   "id": "5bc21fd2-d22f-44ac-a7f2-eb4abf7927a4",
   "metadata": {
    "tags": []
   },
   "outputs": [],
   "source": [
    "# Funções\n",
    "\n",
    "# Função ETL\n",
    "\n",
    "def etl_data(df):\n",
    "    '''Executa algumas transformações no dataset original e o salva como csv'''    \n",
    "        \n",
    "    # Exclui até linha de índice 12 e altera linha de índice 13 como cabeçalho.\n",
    "    df.drop(df.index[0:13], inplace=True)\n",
    "    df = df.rename(columns = df.iloc[0]).drop(df.index[0])    \n",
    "    \n",
    "    # Exclui as últimas 5 linhas\n",
    "    df.drop(df.index[2070:], inplace=True)    \n",
    "    \n",
    "    # Converte para float64 e caracteres '-' são considerandos NaN\n",
    "    colunas = ['Janeiro', 'Fevereiro', 'Março', 'Abril', 'Maio', 'Junho', 'Julho','Agosto', 'Setembro', 'Outubro', 'Novembro', 'Dezembro']\n",
    "    df = df.reindex(columns=['CID10 CATEGORIA','Janeiro', 'Fevereiro', 'Março', 'Abril', 'Maio', 'Junho', 'Julho','Agosto', 'Setembro', 'Outubro', 'Novembro', 'Dezembro'])\n",
    "    df[colunas] = df[colunas].apply(pd.to_numeric, errors='coerce')    \n",
    "\n",
    "    # Substitui Nan por 0\n",
    "    df.fillna(0, inplace = True)    \n",
    "    \n",
    "    # Cria a coluna total do ano\n",
    "    df['Total_' + str(i)] = df.sum(axis=1)    \n",
    "    \n",
    "    # set_index. Coluna 'CID10 CATEGORIA' como index\n",
    "    #df = df.set_index('CID10 CATEGORIA')       \n",
    "    \n",
    "    # Salva o dataframe com as alterações no diretório /datasets_tratados\n",
    "    #df.to_csv('datasets_tratados/' + str(i) + '.csv', sep=';', encoding='utf-8')      \n",
    "    \n",
    "    # Sugestão para salvar apenas com os totais anuais\n",
    "    df.to_csv('datasets_tratados/' + str(i) + '.csv', sep=';', encoding='utf-8', columns = ['CID10 CATEGORIA', 'Total_' + str(i)], index=False) \n",
    "    \n",
    "\n",
    "###########################################################################################################################\n",
    "###########################################################################################################################\n",
    "\n",
    "# Use para selecionar categorias desejadas\n",
    "def selecionaCategoria(character):\n",
    "    '''Cria uma tupla com os códigos da categoria. Em character, digitar somente letras de A-Z (entre aspas)'''\n",
    "    character = character.upper()\n",
    "    list = []\n",
    "    for i in range(100):\n",
    "        if i < 10:\n",
    "            list.append(str(character) + str('0') + str(i))\n",
    "        else:\n",
    "            list.append(str(character) + str(i))\n",
    "    my_tuple = tuple(list)\n",
    "    return my_tuple\n"
   ]
  },
  {
   "cell_type": "code",
   "execution_count": 3,
   "id": "7fa5e714-f945-4523-9f26-521ff56b348d",
   "metadata": {},
   "outputs": [],
   "source": [
    "# Carrega os datasets originais e aplica a função etl_data()\n",
    "for i in range(2017, 2022):\n",
    "    path = 'datasets_originais/' +str(i) + '-cid10.xlsx'\n",
    "    df = pd.read_excel(path)\n",
    "    etl_data(df)"
   ]
  },
  {
   "cell_type": "code",
   "execution_count": 4,
   "id": "7de1c262-cc92-4dde-9b14-245b8de2d442",
   "metadata": {},
   "outputs": [],
   "source": [
    "# Substitui os caracteres carregados errados devido à codificação\n",
    "for i in range(2017, 2022):\n",
    "    v = 'datasets_tratados/' + str(i) + '.csv'\n",
    "    df = pd.read_csv(v, sep=';', on_bad_lines='skip')\n",
    "    df['CID10 CATEGORIA'] = df['CID10 CATEGORIA'].map(lambda x: x.replace('?E', 'oe'))\n",
    "    df['CID10 CATEGORIA'] = df['CID10 CATEGORIA'].map(lambda x: x.replace('?O', 'ao'))\n",
    "    df['CID10 CATEGORIA'] = df['CID10 CATEGORIA'].map(lambda x: x.replace('ç', 'c'))\n",
    "    df['CID10 CATEGORIA'] = df['CID10 CATEGORIA'].map(lambda x: x.replace('ã', 'a'))\n",
    "    df['CID10 CATEGORIA'] = df['CID10 CATEGORIA'].map(lambda x: x.replace('õ', 'o')) \n",
    "    \n",
    "        \n",
    "    df.to_csv('datasets_tratados/' + str(i) + '.csv', sep=';', encoding='utf-8', columns = ['CID10 CATEGORIA', 'Total_' + str(i)], index=False)"
   ]
  },
  {
   "cell_type": "code",
   "execution_count": 5,
   "id": "296908c4-b800-479e-b0fd-dc7229b7665d",
   "metadata": {},
   "outputs": [],
   "source": [
    "# Confere o arquivo salvo\n",
    "a = pd.read_csv('datasets_tratados/2021.csv', sep=';', on_bad_lines='skip')"
   ]
  },
  {
   "cell_type": "code",
   "execution_count": 6,
   "id": "a5608b02-fa0a-4184-b90a-6c71a31db668",
   "metadata": {},
   "outputs": [
    {
     "data": {
      "text/html": [
       "<div>\n",
       "<style scoped>\n",
       "    .dataframe tbody tr th:only-of-type {\n",
       "        vertical-align: middle;\n",
       "    }\n",
       "\n",
       "    .dataframe tbody tr th {\n",
       "        vertical-align: top;\n",
       "    }\n",
       "\n",
       "    .dataframe thead th {\n",
       "        text-align: right;\n",
       "    }\n",
       "</style>\n",
       "<table border=\"1\" class=\"dataframe\">\n",
       "  <thead>\n",
       "    <tr style=\"text-align: right;\">\n",
       "      <th></th>\n",
       "      <th>CID10 CATEGORIA</th>\n",
       "      <th>Total_2021</th>\n",
       "    </tr>\n",
       "  </thead>\n",
       "  <tbody>\n",
       "    <tr>\n",
       "      <th>0</th>\n",
       "      <td>Total</td>\n",
       "      <td>1830419.0</td>\n",
       "    </tr>\n",
       "    <tr>\n",
       "      <th>1</th>\n",
       "      <td>Capítulo I: Algumas doencas Infecciosas e para...</td>\n",
       "      <td>135433.0</td>\n",
       "    </tr>\n",
       "    <tr>\n",
       "      <th>2</th>\n",
       "      <td>A00:Colera</td>\n",
       "      <td>61.0</td>\n",
       "    </tr>\n",
       "    <tr>\n",
       "      <th>3</th>\n",
       "      <td>A01:Febres Tifoide e Paratifoide</td>\n",
       "      <td>4.0</td>\n",
       "    </tr>\n",
       "    <tr>\n",
       "      <th>4</th>\n",
       "      <td>A02:Outras Infeccoes por Salmonella</td>\n",
       "      <td>5.0</td>\n",
       "    </tr>\n",
       "    <tr>\n",
       "      <th>5</th>\n",
       "      <td>A04:Outras Infeccoess Intestinais Bacterianas</td>\n",
       "      <td>20.0</td>\n",
       "    </tr>\n",
       "    <tr>\n",
       "      <th>6</th>\n",
       "      <td>A05:Outras Intoxicacoes Alimentares Bacterianas</td>\n",
       "      <td>2.0</td>\n",
       "    </tr>\n",
       "    <tr>\n",
       "      <th>7</th>\n",
       "      <td>A06:Amebiase</td>\n",
       "      <td>19.0</td>\n",
       "    </tr>\n",
       "    <tr>\n",
       "      <th>8</th>\n",
       "      <td>A07:Outras Doencas Intestinais por Protozoarios</td>\n",
       "      <td>5.0</td>\n",
       "    </tr>\n",
       "    <tr>\n",
       "      <th>9</th>\n",
       "      <td>A08:Infeccoes Intestinais Virais, Outras e as ...</td>\n",
       "      <td>10.0</td>\n",
       "    </tr>\n",
       "  </tbody>\n",
       "</table>\n",
       "</div>"
      ],
      "text/plain": [
       "                                     CID10 CATEGORIA  Total_2021\n",
       "0                                              Total   1830419.0\n",
       "1  Capítulo I: Algumas doencas Infecciosas e para...    135433.0\n",
       "2                                         A00:Colera        61.0\n",
       "3                   A01:Febres Tifoide e Paratifoide         4.0\n",
       "4                A02:Outras Infeccoes por Salmonella         5.0\n",
       "5      A04:Outras Infeccoess Intestinais Bacterianas        20.0\n",
       "6    A05:Outras Intoxicacoes Alimentares Bacterianas         2.0\n",
       "7                                       A06:Amebiase        19.0\n",
       "8    A07:Outras Doencas Intestinais por Protozoarios         5.0\n",
       "9  A08:Infeccoes Intestinais Virais, Outras e as ...        10.0"
      ]
     },
     "execution_count": 6,
     "metadata": {},
     "output_type": "execute_result"
    }
   ],
   "source": [
    "a.head(10)"
   ]
  },
  {
   "cell_type": "code",
   "execution_count": 7,
   "id": "19d9c9f7-e619-4dce-98bd-d2fe208fe57e",
   "metadata": {},
   "outputs": [
    {
     "data": {
      "text/html": [
       "<div>\n",
       "<style scoped>\n",
       "    .dataframe tbody tr th:only-of-type {\n",
       "        vertical-align: middle;\n",
       "    }\n",
       "\n",
       "    .dataframe tbody tr th {\n",
       "        vertical-align: top;\n",
       "    }\n",
       "\n",
       "    .dataframe thead th {\n",
       "        text-align: right;\n",
       "    }\n",
       "</style>\n",
       "<table border=\"1\" class=\"dataframe\">\n",
       "  <thead>\n",
       "    <tr style=\"text-align: right;\">\n",
       "      <th></th>\n",
       "      <th>CID10 CATEGORIA</th>\n",
       "      <th>Total_2021</th>\n",
       "    </tr>\n",
       "  </thead>\n",
       "  <tbody>\n",
       "    <tr>\n",
       "      <th>1695</th>\n",
       "      <td>Z86:Historia Pessoal de Algumas Outras Doencas</td>\n",
       "      <td>3.0</td>\n",
       "    </tr>\n",
       "    <tr>\n",
       "      <th>1696</th>\n",
       "      <td>Z87:Historia Pessoal de Outras Doencas e Afeccoes</td>\n",
       "      <td>14.0</td>\n",
       "    </tr>\n",
       "    <tr>\n",
       "      <th>1697</th>\n",
       "      <td>Z89:Ausencia Adquirida de Membros</td>\n",
       "      <td>44.0</td>\n",
       "    </tr>\n",
       "    <tr>\n",
       "      <th>1698</th>\n",
       "      <td>Z90:Ausencia Adquirida de Orgaos Nao Classific...</td>\n",
       "      <td>29.0</td>\n",
       "    </tr>\n",
       "    <tr>\n",
       "      <th>1699</th>\n",
       "      <td>Z91:Historia Pessoal de Fatores de Risco, Nao ...</td>\n",
       "      <td>1.0</td>\n",
       "    </tr>\n",
       "    <tr>\n",
       "      <th>1700</th>\n",
       "      <td>Z93:Orificios Artificiais</td>\n",
       "      <td>265.0</td>\n",
       "    </tr>\n",
       "    <tr>\n",
       "      <th>1701</th>\n",
       "      <td>Z94:Orgaos e Tecidos Transplantados</td>\n",
       "      <td>544.0</td>\n",
       "    </tr>\n",
       "    <tr>\n",
       "      <th>1702</th>\n",
       "      <td>Z95:Presenca de Implantes e Enxertos Cardiacos...</td>\n",
       "      <td>183.0</td>\n",
       "    </tr>\n",
       "    <tr>\n",
       "      <th>1703</th>\n",
       "      <td>Z96:Presenca de Outros Implantes Funcionais</td>\n",
       "      <td>57.0</td>\n",
       "    </tr>\n",
       "    <tr>\n",
       "      <th>1704</th>\n",
       "      <td>Z97:Presenca de Outros Dispositivos Proteticos</td>\n",
       "      <td>10.0</td>\n",
       "    </tr>\n",
       "    <tr>\n",
       "      <th>1705</th>\n",
       "      <td>Z98:Outros Estados Pos-Cirurgicos</td>\n",
       "      <td>2342.0</td>\n",
       "    </tr>\n",
       "    <tr>\n",
       "      <th>1706</th>\n",
       "      <td>Z99:Dependencia de Maquinas e Dispositivos Cap...</td>\n",
       "      <td>5.0</td>\n",
       "    </tr>\n",
       "    <tr>\n",
       "      <th>1707</th>\n",
       "      <td>999:Ignorada</td>\n",
       "      <td>224956.0</td>\n",
       "    </tr>\n",
       "    <tr>\n",
       "      <th>1708</th>\n",
       "      <td>0</td>\n",
       "      <td>0.0</td>\n",
       "    </tr>\n",
       "    <tr>\n",
       "      <th>1709</th>\n",
       "      <td>0</td>\n",
       "      <td>0.0</td>\n",
       "    </tr>\n",
       "    <tr>\n",
       "      <th>1710</th>\n",
       "      <td>Fonte: Dataprev, SUIBE.</td>\n",
       "      <td>0.0</td>\n",
       "    </tr>\n",
       "    <tr>\n",
       "      <th>1711</th>\n",
       "      <td>Elaboracao: Coordenacao-Geral de Benefícios de...</td>\n",
       "      <td>0.0</td>\n",
       "    </tr>\n",
       "    <tr>\n",
       "      <th>1712</th>\n",
       "      <td>Nota: Dados preliminares, sujeitos à revisao.</td>\n",
       "      <td>0.0</td>\n",
       "    </tr>\n",
       "    <tr>\n",
       "      <th>1713</th>\n",
       "      <td>Obs1.: Esta tabela apresenta somente os código...</td>\n",
       "      <td>0.0</td>\n",
       "    </tr>\n",
       "    <tr>\n",
       "      <th>1714</th>\n",
       "      <td>Obs2. Os valores concedidos totais nao sao igu...</td>\n",
       "      <td>0.0</td>\n",
       "    </tr>\n",
       "  </tbody>\n",
       "</table>\n",
       "</div>"
      ],
      "text/plain": [
       "                                        CID10 CATEGORIA  Total_2021\n",
       "1695     Z86:Historia Pessoal de Algumas Outras Doencas         3.0\n",
       "1696  Z87:Historia Pessoal de Outras Doencas e Afeccoes        14.0\n",
       "1697                  Z89:Ausencia Adquirida de Membros        44.0\n",
       "1698  Z90:Ausencia Adquirida de Orgaos Nao Classific...        29.0\n",
       "1699  Z91:Historia Pessoal de Fatores de Risco, Nao ...         1.0\n",
       "1700                          Z93:Orificios Artificiais       265.0\n",
       "1701                Z94:Orgaos e Tecidos Transplantados       544.0\n",
       "1702  Z95:Presenca de Implantes e Enxertos Cardiacos...       183.0\n",
       "1703        Z96:Presenca de Outros Implantes Funcionais        57.0\n",
       "1704     Z97:Presenca de Outros Dispositivos Proteticos        10.0\n",
       "1705                  Z98:Outros Estados Pos-Cirurgicos      2342.0\n",
       "1706  Z99:Dependencia de Maquinas e Dispositivos Cap...         5.0\n",
       "1707                                       999:Ignorada    224956.0\n",
       "1708                                                  0         0.0\n",
       "1709                                                  0         0.0\n",
       "1710                            Fonte: Dataprev, SUIBE.         0.0\n",
       "1711  Elaboracao: Coordenacao-Geral de Benefícios de...         0.0\n",
       "1712      Nota: Dados preliminares, sujeitos à revisao.         0.0\n",
       "1713  Obs1.: Esta tabela apresenta somente os código...         0.0\n",
       "1714  Obs2. Os valores concedidos totais nao sao igu...         0.0"
      ]
     },
     "execution_count": 7,
     "metadata": {},
     "output_type": "execute_result"
    }
   ],
   "source": [
    "a.tail(20)"
   ]
  },
  {
   "cell_type": "markdown",
   "id": "4d52394c-a7bf-4c20-a7eb-7ccbf276e9ee",
   "metadata": {},
   "source": [
    "## Leitura dos Dataframes e Armazenamento em Variáveis"
   ]
  },
  {
   "cell_type": "code",
   "execution_count": 8,
   "id": "71d7716a-6ee7-4577-a225-4aaed07f28ef",
   "metadata": {},
   "outputs": [],
   "source": [
    "# Cria uma lista com o path dos datasets tratados\n",
    "lista_csv = []\n",
    "for i in range(2017, 2022):\n",
    "    u = 'datasets_tratados/' +str(i) + '.csv'    \n",
    "    lista_csv.append(u)"
   ]
  },
  {
   "cell_type": "code",
   "execution_count": 9,
   "id": "a4f4ff50-d5c1-4e9c-a999-9239d2dfd447",
   "metadata": {},
   "outputs": [
    {
     "data": {
      "text/plain": [
       "['datasets_tratados/2017.csv',\n",
       " 'datasets_tratados/2018.csv',\n",
       " 'datasets_tratados/2019.csv',\n",
       " 'datasets_tratados/2020.csv',\n",
       " 'datasets_tratados/2021.csv']"
      ]
     },
     "execution_count": 9,
     "metadata": {},
     "output_type": "execute_result"
    }
   ],
   "source": [
    "lista_csv"
   ]
  },
  {
   "cell_type": "code",
   "execution_count": 10,
   "id": "937c582e-f2ad-484e-b437-d7a707ae530e",
   "metadata": {},
   "outputs": [],
   "source": [
    "# Cria dataframes para cada ano\n",
    "df2017 = pd.read_csv(lista_csv[0], sep=';', on_bad_lines='skip')\n",
    "df2018 = pd.read_csv(lista_csv[1], sep=';', on_bad_lines='skip')\n",
    "df2019 = pd.read_csv(lista_csv[2], sep=';', on_bad_lines='skip')\n",
    "df2020 = pd.read_csv(lista_csv[3], sep=';', on_bad_lines='skip')\n",
    "df2021 = pd.read_csv(lista_csv[4], sep=';', on_bad_lines='skip')"
   ]
  },
  {
   "cell_type": "code",
   "execution_count": 11,
   "id": "2a05d59a-d4ff-472c-b108-170d47c99270",
   "metadata": {},
   "outputs": [
    {
     "name": "stdout",
     "output_type": "stream",
     "text": [
      "(2070, 2)\n",
      "(2070, 2)\n",
      "(2070, 2)\n",
      "(2070, 2)\n",
      "(1715, 2)\n"
     ]
    }
   ],
   "source": [
    "print(df2017.shape)\n",
    "print(df2018.shape)\n",
    "print(df2019.shape)\n",
    "print(df2020.shape)\n",
    "print(df2021.shape)"
   ]
  },
  {
   "cell_type": "markdown",
   "id": "d9edfe55-6cca-44a0-ad21-5efde46fa908",
   "metadata": {},
   "source": [
    "## Seleciona Categorias"
   ]
  },
  {
   "cell_type": "code",
   "execution_count": 12,
   "id": "b9e4eab0-7b6a-495f-8e97-2f6110058b86",
   "metadata": {},
   "outputs": [
    {
     "ename": "KeyError",
     "evalue": "\"['Total_2017'] not in index\"",
     "output_type": "error",
     "traceback": [
      "\u001b[1;31m---------------------------------------------------------------------------\u001b[0m",
      "\u001b[1;31mKeyError\u001b[0m                                  Traceback (most recent call last)",
      "Input \u001b[1;32mIn [12]\u001b[0m, in \u001b[0;36m<cell line: 18>\u001b[1;34m()\u001b[0m\n\u001b[0;32m     17\u001b[0m \u001b[38;5;66;03m# Salva os dataframes em csv\u001b[39;00m\n\u001b[0;32m     18\u001b[0m \u001b[38;5;28;01mfor\u001b[39;00m i \u001b[38;5;129;01min\u001b[39;00m \u001b[38;5;28mrange\u001b[39m(\u001b[38;5;241m2017\u001b[39m, \u001b[38;5;241m2022\u001b[39m):\n\u001b[1;32m---> 19\u001b[0m     \u001b[43mdf\u001b[49m\u001b[38;5;241;43m.\u001b[39;49m\u001b[43mto_csv\u001b[49m\u001b[43m(\u001b[49m\u001b[38;5;124;43m'\u001b[39;49m\u001b[38;5;124;43mdatasets_tratados/\u001b[39;49m\u001b[38;5;124;43m'\u001b[39;49m\u001b[43m \u001b[49m\u001b[38;5;241;43m+\u001b[39;49m\u001b[43m \u001b[49m\u001b[38;5;28;43mstr\u001b[39;49m\u001b[43m(\u001b[49m\u001b[43mi\u001b[49m\u001b[43m)\u001b[49m\u001b[43m \u001b[49m\u001b[38;5;241;43m+\u001b[39;49m\u001b[43m \u001b[49m\u001b[38;5;124;43m'\u001b[39;49m\u001b[38;5;124;43m.csv\u001b[39;49m\u001b[38;5;124;43m'\u001b[39;49m\u001b[43m,\u001b[49m\u001b[43m \u001b[49m\u001b[43msep\u001b[49m\u001b[38;5;241;43m=\u001b[39;49m\u001b[38;5;124;43m'\u001b[39;49m\u001b[38;5;124;43m;\u001b[39;49m\u001b[38;5;124;43m'\u001b[39;49m\u001b[43m,\u001b[49m\u001b[43m \u001b[49m\u001b[43mencoding\u001b[49m\u001b[38;5;241;43m=\u001b[39;49m\u001b[38;5;124;43m'\u001b[39;49m\u001b[38;5;124;43mutf-8\u001b[39;49m\u001b[38;5;124;43m'\u001b[39;49m\u001b[43m,\u001b[49m\u001b[43m \u001b[49m\u001b[43mcolumns\u001b[49m\u001b[43m \u001b[49m\u001b[38;5;241;43m=\u001b[39;49m\u001b[43m \u001b[49m\u001b[43m[\u001b[49m\u001b[38;5;124;43m'\u001b[39;49m\u001b[38;5;124;43mCID10 CATEGORIA\u001b[39;49m\u001b[38;5;124;43m'\u001b[39;49m\u001b[43m,\u001b[49m\u001b[43m \u001b[49m\u001b[38;5;124;43m'\u001b[39;49m\u001b[38;5;124;43mTotal_\u001b[39;49m\u001b[38;5;124;43m'\u001b[39;49m\u001b[43m \u001b[49m\u001b[38;5;241;43m+\u001b[39;49m\u001b[43m \u001b[49m\u001b[38;5;28;43mstr\u001b[39;49m\u001b[43m(\u001b[49m\u001b[43mi\u001b[49m\u001b[43m)\u001b[49m\u001b[43m]\u001b[49m\u001b[43m,\u001b[49m\u001b[43m \u001b[49m\u001b[43mindex\u001b[49m\u001b[38;5;241;43m=\u001b[39;49m\u001b[38;5;28;43;01mFalse\u001b[39;49;00m\u001b[43m)\u001b[49m\n",
      "File \u001b[1;32mC:\\ProgramData\\Anaconda3\\lib\\site-packages\\pandas\\core\\generic.py:3551\u001b[0m, in \u001b[0;36mNDFrame.to_csv\u001b[1;34m(self, path_or_buf, sep, na_rep, float_format, columns, header, index, index_label, mode, encoding, compression, quoting, quotechar, line_terminator, chunksize, date_format, doublequote, escapechar, decimal, errors, storage_options)\u001b[0m\n\u001b[0;32m   3540\u001b[0m df \u001b[38;5;241m=\u001b[39m \u001b[38;5;28mself\u001b[39m \u001b[38;5;28;01mif\u001b[39;00m \u001b[38;5;28misinstance\u001b[39m(\u001b[38;5;28mself\u001b[39m, ABCDataFrame) \u001b[38;5;28;01melse\u001b[39;00m \u001b[38;5;28mself\u001b[39m\u001b[38;5;241m.\u001b[39mto_frame()\n\u001b[0;32m   3542\u001b[0m formatter \u001b[38;5;241m=\u001b[39m DataFrameFormatter(\n\u001b[0;32m   3543\u001b[0m     frame\u001b[38;5;241m=\u001b[39mdf,\n\u001b[0;32m   3544\u001b[0m     header\u001b[38;5;241m=\u001b[39mheader,\n\u001b[1;32m   (...)\u001b[0m\n\u001b[0;32m   3548\u001b[0m     decimal\u001b[38;5;241m=\u001b[39mdecimal,\n\u001b[0;32m   3549\u001b[0m )\n\u001b[1;32m-> 3551\u001b[0m \u001b[38;5;28;01mreturn\u001b[39;00m \u001b[43mDataFrameRenderer\u001b[49m\u001b[43m(\u001b[49m\u001b[43mformatter\u001b[49m\u001b[43m)\u001b[49m\u001b[38;5;241;43m.\u001b[39;49m\u001b[43mto_csv\u001b[49m\u001b[43m(\u001b[49m\n\u001b[0;32m   3552\u001b[0m \u001b[43m    \u001b[49m\u001b[43mpath_or_buf\u001b[49m\u001b[43m,\u001b[49m\n\u001b[0;32m   3553\u001b[0m \u001b[43m    \u001b[49m\u001b[43mline_terminator\u001b[49m\u001b[38;5;241;43m=\u001b[39;49m\u001b[43mline_terminator\u001b[49m\u001b[43m,\u001b[49m\n\u001b[0;32m   3554\u001b[0m \u001b[43m    \u001b[49m\u001b[43msep\u001b[49m\u001b[38;5;241;43m=\u001b[39;49m\u001b[43msep\u001b[49m\u001b[43m,\u001b[49m\n\u001b[0;32m   3555\u001b[0m \u001b[43m    \u001b[49m\u001b[43mencoding\u001b[49m\u001b[38;5;241;43m=\u001b[39;49m\u001b[43mencoding\u001b[49m\u001b[43m,\u001b[49m\n\u001b[0;32m   3556\u001b[0m \u001b[43m    \u001b[49m\u001b[43merrors\u001b[49m\u001b[38;5;241;43m=\u001b[39;49m\u001b[43merrors\u001b[49m\u001b[43m,\u001b[49m\n\u001b[0;32m   3557\u001b[0m \u001b[43m    \u001b[49m\u001b[43mcompression\u001b[49m\u001b[38;5;241;43m=\u001b[39;49m\u001b[43mcompression\u001b[49m\u001b[43m,\u001b[49m\n\u001b[0;32m   3558\u001b[0m \u001b[43m    \u001b[49m\u001b[43mquoting\u001b[49m\u001b[38;5;241;43m=\u001b[39;49m\u001b[43mquoting\u001b[49m\u001b[43m,\u001b[49m\n\u001b[0;32m   3559\u001b[0m \u001b[43m    \u001b[49m\u001b[43mcolumns\u001b[49m\u001b[38;5;241;43m=\u001b[39;49m\u001b[43mcolumns\u001b[49m\u001b[43m,\u001b[49m\n\u001b[0;32m   3560\u001b[0m \u001b[43m    \u001b[49m\u001b[43mindex_label\u001b[49m\u001b[38;5;241;43m=\u001b[39;49m\u001b[43mindex_label\u001b[49m\u001b[43m,\u001b[49m\n\u001b[0;32m   3561\u001b[0m \u001b[43m    \u001b[49m\u001b[43mmode\u001b[49m\u001b[38;5;241;43m=\u001b[39;49m\u001b[43mmode\u001b[49m\u001b[43m,\u001b[49m\n\u001b[0;32m   3562\u001b[0m \u001b[43m    \u001b[49m\u001b[43mchunksize\u001b[49m\u001b[38;5;241;43m=\u001b[39;49m\u001b[43mchunksize\u001b[49m\u001b[43m,\u001b[49m\n\u001b[0;32m   3563\u001b[0m \u001b[43m    \u001b[49m\u001b[43mquotechar\u001b[49m\u001b[38;5;241;43m=\u001b[39;49m\u001b[43mquotechar\u001b[49m\u001b[43m,\u001b[49m\n\u001b[0;32m   3564\u001b[0m \u001b[43m    \u001b[49m\u001b[43mdate_format\u001b[49m\u001b[38;5;241;43m=\u001b[39;49m\u001b[43mdate_format\u001b[49m\u001b[43m,\u001b[49m\n\u001b[0;32m   3565\u001b[0m \u001b[43m    \u001b[49m\u001b[43mdoublequote\u001b[49m\u001b[38;5;241;43m=\u001b[39;49m\u001b[43mdoublequote\u001b[49m\u001b[43m,\u001b[49m\n\u001b[0;32m   3566\u001b[0m \u001b[43m    \u001b[49m\u001b[43mescapechar\u001b[49m\u001b[38;5;241;43m=\u001b[39;49m\u001b[43mescapechar\u001b[49m\u001b[43m,\u001b[49m\n\u001b[0;32m   3567\u001b[0m \u001b[43m    \u001b[49m\u001b[43mstorage_options\u001b[49m\u001b[38;5;241;43m=\u001b[39;49m\u001b[43mstorage_options\u001b[49m\u001b[43m,\u001b[49m\n\u001b[0;32m   3568\u001b[0m \u001b[43m\u001b[49m\u001b[43m)\u001b[49m\n",
      "File \u001b[1;32mC:\\ProgramData\\Anaconda3\\lib\\site-packages\\pandas\\io\\formats\\format.py:1161\u001b[0m, in \u001b[0;36mDataFrameRenderer.to_csv\u001b[1;34m(self, path_or_buf, encoding, sep, columns, index_label, mode, compression, quoting, quotechar, line_terminator, chunksize, date_format, doublequote, escapechar, errors, storage_options)\u001b[0m\n\u001b[0;32m   1158\u001b[0m \u001b[38;5;28;01melse\u001b[39;00m:\n\u001b[0;32m   1159\u001b[0m     created_buffer \u001b[38;5;241m=\u001b[39m \u001b[38;5;28;01mFalse\u001b[39;00m\n\u001b[1;32m-> 1161\u001b[0m csv_formatter \u001b[38;5;241m=\u001b[39m \u001b[43mCSVFormatter\u001b[49m\u001b[43m(\u001b[49m\n\u001b[0;32m   1162\u001b[0m \u001b[43m    \u001b[49m\u001b[43mpath_or_buf\u001b[49m\u001b[38;5;241;43m=\u001b[39;49m\u001b[43mpath_or_buf\u001b[49m\u001b[43m,\u001b[49m\n\u001b[0;32m   1163\u001b[0m \u001b[43m    \u001b[49m\u001b[43mline_terminator\u001b[49m\u001b[38;5;241;43m=\u001b[39;49m\u001b[43mline_terminator\u001b[49m\u001b[43m,\u001b[49m\n\u001b[0;32m   1164\u001b[0m \u001b[43m    \u001b[49m\u001b[43msep\u001b[49m\u001b[38;5;241;43m=\u001b[39;49m\u001b[43msep\u001b[49m\u001b[43m,\u001b[49m\n\u001b[0;32m   1165\u001b[0m \u001b[43m    \u001b[49m\u001b[43mencoding\u001b[49m\u001b[38;5;241;43m=\u001b[39;49m\u001b[43mencoding\u001b[49m\u001b[43m,\u001b[49m\n\u001b[0;32m   1166\u001b[0m \u001b[43m    \u001b[49m\u001b[43merrors\u001b[49m\u001b[38;5;241;43m=\u001b[39;49m\u001b[43merrors\u001b[49m\u001b[43m,\u001b[49m\n\u001b[0;32m   1167\u001b[0m \u001b[43m    \u001b[49m\u001b[43mcompression\u001b[49m\u001b[38;5;241;43m=\u001b[39;49m\u001b[43mcompression\u001b[49m\u001b[43m,\u001b[49m\n\u001b[0;32m   1168\u001b[0m \u001b[43m    \u001b[49m\u001b[43mquoting\u001b[49m\u001b[38;5;241;43m=\u001b[39;49m\u001b[43mquoting\u001b[49m\u001b[43m,\u001b[49m\n\u001b[0;32m   1169\u001b[0m \u001b[43m    \u001b[49m\u001b[43mcols\u001b[49m\u001b[38;5;241;43m=\u001b[39;49m\u001b[43mcolumns\u001b[49m\u001b[43m,\u001b[49m\n\u001b[0;32m   1170\u001b[0m \u001b[43m    \u001b[49m\u001b[43mindex_label\u001b[49m\u001b[38;5;241;43m=\u001b[39;49m\u001b[43mindex_label\u001b[49m\u001b[43m,\u001b[49m\n\u001b[0;32m   1171\u001b[0m \u001b[43m    \u001b[49m\u001b[43mmode\u001b[49m\u001b[38;5;241;43m=\u001b[39;49m\u001b[43mmode\u001b[49m\u001b[43m,\u001b[49m\n\u001b[0;32m   1172\u001b[0m \u001b[43m    \u001b[49m\u001b[43mchunksize\u001b[49m\u001b[38;5;241;43m=\u001b[39;49m\u001b[43mchunksize\u001b[49m\u001b[43m,\u001b[49m\n\u001b[0;32m   1173\u001b[0m \u001b[43m    \u001b[49m\u001b[43mquotechar\u001b[49m\u001b[38;5;241;43m=\u001b[39;49m\u001b[43mquotechar\u001b[49m\u001b[43m,\u001b[49m\n\u001b[0;32m   1174\u001b[0m \u001b[43m    \u001b[49m\u001b[43mdate_format\u001b[49m\u001b[38;5;241;43m=\u001b[39;49m\u001b[43mdate_format\u001b[49m\u001b[43m,\u001b[49m\n\u001b[0;32m   1175\u001b[0m \u001b[43m    \u001b[49m\u001b[43mdoublequote\u001b[49m\u001b[38;5;241;43m=\u001b[39;49m\u001b[43mdoublequote\u001b[49m\u001b[43m,\u001b[49m\n\u001b[0;32m   1176\u001b[0m \u001b[43m    \u001b[49m\u001b[43mescapechar\u001b[49m\u001b[38;5;241;43m=\u001b[39;49m\u001b[43mescapechar\u001b[49m\u001b[43m,\u001b[49m\n\u001b[0;32m   1177\u001b[0m \u001b[43m    \u001b[49m\u001b[43mstorage_options\u001b[49m\u001b[38;5;241;43m=\u001b[39;49m\u001b[43mstorage_options\u001b[49m\u001b[43m,\u001b[49m\n\u001b[0;32m   1178\u001b[0m \u001b[43m    \u001b[49m\u001b[43mformatter\u001b[49m\u001b[38;5;241;43m=\u001b[39;49m\u001b[38;5;28;43mself\u001b[39;49m\u001b[38;5;241;43m.\u001b[39;49m\u001b[43mfmt\u001b[49m\u001b[43m,\u001b[49m\n\u001b[0;32m   1179\u001b[0m \u001b[43m\u001b[49m\u001b[43m)\u001b[49m\n\u001b[0;32m   1180\u001b[0m csv_formatter\u001b[38;5;241m.\u001b[39msave()\n\u001b[0;32m   1182\u001b[0m \u001b[38;5;28;01mif\u001b[39;00m created_buffer:\n",
      "File \u001b[1;32mC:\\ProgramData\\Anaconda3\\lib\\site-packages\\pandas\\io\\formats\\csvs.py:89\u001b[0m, in \u001b[0;36mCSVFormatter.__init__\u001b[1;34m(self, formatter, path_or_buf, sep, cols, index_label, mode, encoding, errors, compression, quoting, line_terminator, chunksize, quotechar, date_format, doublequote, escapechar, storage_options)\u001b[0m\n\u001b[0;32m     87\u001b[0m \u001b[38;5;28mself\u001b[39m\u001b[38;5;241m.\u001b[39mline_terminator \u001b[38;5;241m=\u001b[39m line_terminator \u001b[38;5;129;01mor\u001b[39;00m os\u001b[38;5;241m.\u001b[39mlinesep\n\u001b[0;32m     88\u001b[0m \u001b[38;5;28mself\u001b[39m\u001b[38;5;241m.\u001b[39mdate_format \u001b[38;5;241m=\u001b[39m date_format\n\u001b[1;32m---> 89\u001b[0m \u001b[38;5;28mself\u001b[39m\u001b[38;5;241m.\u001b[39mcols \u001b[38;5;241m=\u001b[39m \u001b[38;5;28;43mself\u001b[39;49m\u001b[38;5;241;43m.\u001b[39;49m\u001b[43m_initialize_columns\u001b[49m\u001b[43m(\u001b[49m\u001b[43mcols\u001b[49m\u001b[43m)\u001b[49m\n\u001b[0;32m     90\u001b[0m \u001b[38;5;28mself\u001b[39m\u001b[38;5;241m.\u001b[39mchunksize \u001b[38;5;241m=\u001b[39m \u001b[38;5;28mself\u001b[39m\u001b[38;5;241m.\u001b[39m_initialize_chunksize(chunksize)\n",
      "File \u001b[1;32mC:\\ProgramData\\Anaconda3\\lib\\site-packages\\pandas\\io\\formats\\csvs.py:156\u001b[0m, in \u001b[0;36mCSVFormatter._initialize_columns\u001b[1;34m(self, cols)\u001b[0m\n\u001b[0;32m    154\u001b[0m     \u001b[38;5;28;01melse\u001b[39;00m:\n\u001b[0;32m    155\u001b[0m         cols \u001b[38;5;241m=\u001b[39m \u001b[38;5;28mlist\u001b[39m(cols)\n\u001b[1;32m--> 156\u001b[0m     \u001b[38;5;28mself\u001b[39m\u001b[38;5;241m.\u001b[39mobj \u001b[38;5;241m=\u001b[39m \u001b[38;5;28;43mself\u001b[39;49m\u001b[38;5;241;43m.\u001b[39;49m\u001b[43mobj\u001b[49m\u001b[38;5;241;43m.\u001b[39;49m\u001b[43mloc\u001b[49m\u001b[43m[\u001b[49m\u001b[43m:\u001b[49m\u001b[43m,\u001b[49m\u001b[43m \u001b[49m\u001b[43mcols\u001b[49m\u001b[43m]\u001b[49m\n\u001b[0;32m    158\u001b[0m \u001b[38;5;66;03m# update columns to include possible multiplicity of dupes\u001b[39;00m\n\u001b[0;32m    159\u001b[0m \u001b[38;5;66;03m# and make sure cols is just a list of labels\u001b[39;00m\n\u001b[0;32m    160\u001b[0m new_cols \u001b[38;5;241m=\u001b[39m \u001b[38;5;28mself\u001b[39m\u001b[38;5;241m.\u001b[39mobj\u001b[38;5;241m.\u001b[39mcolumns\n",
      "File \u001b[1;32mC:\\ProgramData\\Anaconda3\\lib\\site-packages\\pandas\\core\\indexing.py:961\u001b[0m, in \u001b[0;36m_LocationIndexer.__getitem__\u001b[1;34m(self, key)\u001b[0m\n\u001b[0;32m    959\u001b[0m     \u001b[38;5;28;01mif\u001b[39;00m \u001b[38;5;28mself\u001b[39m\u001b[38;5;241m.\u001b[39m_is_scalar_access(key):\n\u001b[0;32m    960\u001b[0m         \u001b[38;5;28;01mreturn\u001b[39;00m \u001b[38;5;28mself\u001b[39m\u001b[38;5;241m.\u001b[39mobj\u001b[38;5;241m.\u001b[39m_get_value(\u001b[38;5;241m*\u001b[39mkey, takeable\u001b[38;5;241m=\u001b[39m\u001b[38;5;28mself\u001b[39m\u001b[38;5;241m.\u001b[39m_takeable)\n\u001b[1;32m--> 961\u001b[0m     \u001b[38;5;28;01mreturn\u001b[39;00m \u001b[38;5;28;43mself\u001b[39;49m\u001b[38;5;241;43m.\u001b[39;49m\u001b[43m_getitem_tuple\u001b[49m\u001b[43m(\u001b[49m\u001b[43mkey\u001b[49m\u001b[43m)\u001b[49m\n\u001b[0;32m    962\u001b[0m \u001b[38;5;28;01melse\u001b[39;00m:\n\u001b[0;32m    963\u001b[0m     \u001b[38;5;66;03m# we by definition only have the 0th axis\u001b[39;00m\n\u001b[0;32m    964\u001b[0m     axis \u001b[38;5;241m=\u001b[39m \u001b[38;5;28mself\u001b[39m\u001b[38;5;241m.\u001b[39maxis \u001b[38;5;129;01mor\u001b[39;00m \u001b[38;5;241m0\u001b[39m\n",
      "File \u001b[1;32mC:\\ProgramData\\Anaconda3\\lib\\site-packages\\pandas\\core\\indexing.py:1149\u001b[0m, in \u001b[0;36m_LocIndexer._getitem_tuple\u001b[1;34m(self, tup)\u001b[0m\n\u001b[0;32m   1146\u001b[0m \u001b[38;5;28;01mif\u001b[39;00m \u001b[38;5;28mself\u001b[39m\u001b[38;5;241m.\u001b[39m_multi_take_opportunity(tup):\n\u001b[0;32m   1147\u001b[0m     \u001b[38;5;28;01mreturn\u001b[39;00m \u001b[38;5;28mself\u001b[39m\u001b[38;5;241m.\u001b[39m_multi_take(tup)\n\u001b[1;32m-> 1149\u001b[0m \u001b[38;5;28;01mreturn\u001b[39;00m \u001b[38;5;28;43mself\u001b[39;49m\u001b[38;5;241;43m.\u001b[39;49m\u001b[43m_getitem_tuple_same_dim\u001b[49m\u001b[43m(\u001b[49m\u001b[43mtup\u001b[49m\u001b[43m)\u001b[49m\n",
      "File \u001b[1;32mC:\\ProgramData\\Anaconda3\\lib\\site-packages\\pandas\\core\\indexing.py:827\u001b[0m, in \u001b[0;36m_LocationIndexer._getitem_tuple_same_dim\u001b[1;34m(self, tup)\u001b[0m\n\u001b[0;32m    824\u001b[0m \u001b[38;5;28;01mif\u001b[39;00m com\u001b[38;5;241m.\u001b[39mis_null_slice(key):\n\u001b[0;32m    825\u001b[0m     \u001b[38;5;28;01mcontinue\u001b[39;00m\n\u001b[1;32m--> 827\u001b[0m retval \u001b[38;5;241m=\u001b[39m \u001b[38;5;28;43mgetattr\u001b[39;49m\u001b[43m(\u001b[49m\u001b[43mretval\u001b[49m\u001b[43m,\u001b[49m\u001b[43m \u001b[49m\u001b[38;5;28;43mself\u001b[39;49m\u001b[38;5;241;43m.\u001b[39;49m\u001b[43mname\u001b[49m\u001b[43m)\u001b[49m\u001b[38;5;241;43m.\u001b[39;49m\u001b[43m_getitem_axis\u001b[49m\u001b[43m(\u001b[49m\u001b[43mkey\u001b[49m\u001b[43m,\u001b[49m\u001b[43m \u001b[49m\u001b[43maxis\u001b[49m\u001b[38;5;241;43m=\u001b[39;49m\u001b[43mi\u001b[49m\u001b[43m)\u001b[49m\n\u001b[0;32m    828\u001b[0m \u001b[38;5;66;03m# We should never have retval.ndim < self.ndim, as that should\u001b[39;00m\n\u001b[0;32m    829\u001b[0m \u001b[38;5;66;03m#  be handled by the _getitem_lowerdim call above.\u001b[39;00m\n\u001b[0;32m    830\u001b[0m \u001b[38;5;28;01massert\u001b[39;00m retval\u001b[38;5;241m.\u001b[39mndim \u001b[38;5;241m==\u001b[39m \u001b[38;5;28mself\u001b[39m\u001b[38;5;241m.\u001b[39mndim\n",
      "File \u001b[1;32mC:\\ProgramData\\Anaconda3\\lib\\site-packages\\pandas\\core\\indexing.py:1191\u001b[0m, in \u001b[0;36m_LocIndexer._getitem_axis\u001b[1;34m(self, key, axis)\u001b[0m\n\u001b[0;32m   1188\u001b[0m     \u001b[38;5;28;01mif\u001b[39;00m \u001b[38;5;28mhasattr\u001b[39m(key, \u001b[38;5;124m\"\u001b[39m\u001b[38;5;124mndim\u001b[39m\u001b[38;5;124m\"\u001b[39m) \u001b[38;5;129;01mand\u001b[39;00m key\u001b[38;5;241m.\u001b[39mndim \u001b[38;5;241m>\u001b[39m \u001b[38;5;241m1\u001b[39m:\n\u001b[0;32m   1189\u001b[0m         \u001b[38;5;28;01mraise\u001b[39;00m \u001b[38;5;167;01mValueError\u001b[39;00m(\u001b[38;5;124m\"\u001b[39m\u001b[38;5;124mCannot index with multidimensional key\u001b[39m\u001b[38;5;124m\"\u001b[39m)\n\u001b[1;32m-> 1191\u001b[0m     \u001b[38;5;28;01mreturn\u001b[39;00m \u001b[38;5;28;43mself\u001b[39;49m\u001b[38;5;241;43m.\u001b[39;49m\u001b[43m_getitem_iterable\u001b[49m\u001b[43m(\u001b[49m\u001b[43mkey\u001b[49m\u001b[43m,\u001b[49m\u001b[43m \u001b[49m\u001b[43maxis\u001b[49m\u001b[38;5;241;43m=\u001b[39;49m\u001b[43maxis\u001b[49m\u001b[43m)\u001b[49m\n\u001b[0;32m   1193\u001b[0m \u001b[38;5;66;03m# nested tuple slicing\u001b[39;00m\n\u001b[0;32m   1194\u001b[0m \u001b[38;5;28;01mif\u001b[39;00m is_nested_tuple(key, labels):\n",
      "File \u001b[1;32mC:\\ProgramData\\Anaconda3\\lib\\site-packages\\pandas\\core\\indexing.py:1132\u001b[0m, in \u001b[0;36m_LocIndexer._getitem_iterable\u001b[1;34m(self, key, axis)\u001b[0m\n\u001b[0;32m   1129\u001b[0m \u001b[38;5;28mself\u001b[39m\u001b[38;5;241m.\u001b[39m_validate_key(key, axis)\n\u001b[0;32m   1131\u001b[0m \u001b[38;5;66;03m# A collection of keys\u001b[39;00m\n\u001b[1;32m-> 1132\u001b[0m keyarr, indexer \u001b[38;5;241m=\u001b[39m \u001b[38;5;28;43mself\u001b[39;49m\u001b[38;5;241;43m.\u001b[39;49m\u001b[43m_get_listlike_indexer\u001b[49m\u001b[43m(\u001b[49m\u001b[43mkey\u001b[49m\u001b[43m,\u001b[49m\u001b[43m \u001b[49m\u001b[43maxis\u001b[49m\u001b[43m)\u001b[49m\n\u001b[0;32m   1133\u001b[0m \u001b[38;5;28;01mreturn\u001b[39;00m \u001b[38;5;28mself\u001b[39m\u001b[38;5;241m.\u001b[39mobj\u001b[38;5;241m.\u001b[39m_reindex_with_indexers(\n\u001b[0;32m   1134\u001b[0m     {axis: [keyarr, indexer]}, copy\u001b[38;5;241m=\u001b[39m\u001b[38;5;28;01mTrue\u001b[39;00m, allow_dups\u001b[38;5;241m=\u001b[39m\u001b[38;5;28;01mTrue\u001b[39;00m\n\u001b[0;32m   1135\u001b[0m )\n",
      "File \u001b[1;32mC:\\ProgramData\\Anaconda3\\lib\\site-packages\\pandas\\core\\indexing.py:1327\u001b[0m, in \u001b[0;36m_LocIndexer._get_listlike_indexer\u001b[1;34m(self, key, axis)\u001b[0m\n\u001b[0;32m   1324\u001b[0m ax \u001b[38;5;241m=\u001b[39m \u001b[38;5;28mself\u001b[39m\u001b[38;5;241m.\u001b[39mobj\u001b[38;5;241m.\u001b[39m_get_axis(axis)\n\u001b[0;32m   1325\u001b[0m axis_name \u001b[38;5;241m=\u001b[39m \u001b[38;5;28mself\u001b[39m\u001b[38;5;241m.\u001b[39mobj\u001b[38;5;241m.\u001b[39m_get_axis_name(axis)\n\u001b[1;32m-> 1327\u001b[0m keyarr, indexer \u001b[38;5;241m=\u001b[39m \u001b[43max\u001b[49m\u001b[38;5;241;43m.\u001b[39;49m\u001b[43m_get_indexer_strict\u001b[49m\u001b[43m(\u001b[49m\u001b[43mkey\u001b[49m\u001b[43m,\u001b[49m\u001b[43m \u001b[49m\u001b[43maxis_name\u001b[49m\u001b[43m)\u001b[49m\n\u001b[0;32m   1329\u001b[0m \u001b[38;5;28;01mreturn\u001b[39;00m keyarr, indexer\n",
      "File \u001b[1;32mC:\\ProgramData\\Anaconda3\\lib\\site-packages\\pandas\\core\\indexes\\base.py:5782\u001b[0m, in \u001b[0;36mIndex._get_indexer_strict\u001b[1;34m(self, key, axis_name)\u001b[0m\n\u001b[0;32m   5779\u001b[0m \u001b[38;5;28;01melse\u001b[39;00m:\n\u001b[0;32m   5780\u001b[0m     keyarr, indexer, new_indexer \u001b[38;5;241m=\u001b[39m \u001b[38;5;28mself\u001b[39m\u001b[38;5;241m.\u001b[39m_reindex_non_unique(keyarr)\n\u001b[1;32m-> 5782\u001b[0m \u001b[38;5;28;43mself\u001b[39;49m\u001b[38;5;241;43m.\u001b[39;49m\u001b[43m_raise_if_missing\u001b[49m\u001b[43m(\u001b[49m\u001b[43mkeyarr\u001b[49m\u001b[43m,\u001b[49m\u001b[43m \u001b[49m\u001b[43mindexer\u001b[49m\u001b[43m,\u001b[49m\u001b[43m \u001b[49m\u001b[43maxis_name\u001b[49m\u001b[43m)\u001b[49m\n\u001b[0;32m   5784\u001b[0m keyarr \u001b[38;5;241m=\u001b[39m \u001b[38;5;28mself\u001b[39m\u001b[38;5;241m.\u001b[39mtake(indexer)\n\u001b[0;32m   5785\u001b[0m \u001b[38;5;28;01mif\u001b[39;00m \u001b[38;5;28misinstance\u001b[39m(key, Index):\n\u001b[0;32m   5786\u001b[0m     \u001b[38;5;66;03m# GH 42790 - Preserve name from an Index\u001b[39;00m\n",
      "File \u001b[1;32mC:\\ProgramData\\Anaconda3\\lib\\site-packages\\pandas\\core\\indexes\\base.py:5845\u001b[0m, in \u001b[0;36mIndex._raise_if_missing\u001b[1;34m(self, key, indexer, axis_name)\u001b[0m\n\u001b[0;32m   5842\u001b[0m     \u001b[38;5;28;01mraise\u001b[39;00m \u001b[38;5;167;01mKeyError\u001b[39;00m(\u001b[38;5;124mf\u001b[39m\u001b[38;5;124m\"\u001b[39m\u001b[38;5;124mNone of [\u001b[39m\u001b[38;5;132;01m{\u001b[39;00mkey\u001b[38;5;132;01m}\u001b[39;00m\u001b[38;5;124m] are in the [\u001b[39m\u001b[38;5;132;01m{\u001b[39;00maxis_name\u001b[38;5;132;01m}\u001b[39;00m\u001b[38;5;124m]\u001b[39m\u001b[38;5;124m\"\u001b[39m)\n\u001b[0;32m   5844\u001b[0m not_found \u001b[38;5;241m=\u001b[39m \u001b[38;5;28mlist\u001b[39m(ensure_index(key)[missing_mask\u001b[38;5;241m.\u001b[39mnonzero()[\u001b[38;5;241m0\u001b[39m]]\u001b[38;5;241m.\u001b[39munique())\n\u001b[1;32m-> 5845\u001b[0m \u001b[38;5;28;01mraise\u001b[39;00m \u001b[38;5;167;01mKeyError\u001b[39;00m(\u001b[38;5;124mf\u001b[39m\u001b[38;5;124m\"\u001b[39m\u001b[38;5;132;01m{\u001b[39;00mnot_found\u001b[38;5;132;01m}\u001b[39;00m\u001b[38;5;124m not in index\u001b[39m\u001b[38;5;124m\"\u001b[39m)\n",
      "\u001b[1;31mKeyError\u001b[0m: \"['Total_2017'] not in index\""
     ]
    }
   ],
   "source": [
    "# Remove linhas finais e outras\n",
    "df2017.drop(df2017.index[2067:], inplace = True)\n",
    "df2018.drop(df2018.index[2067:], inplace = True)\n",
    "df2019.drop(df2019.index[2067:], inplace = True)\n",
    "df2020.drop(df2020.index[2067:], inplace = True)\n",
    "df2021.drop(df2021.index[754:], inplace = True)\n",
    "\n",
    "words = ['Total', 'Capítulo', 'Capitulo']\n",
    "pattern2 = '|'.join(words)\n",
    "\n",
    "df2017 = df2017[~df2017['CID10 CATEGORIA'].str.contains(pattern2)]\n",
    "df2018 = df2018[~df2018['CID10 CATEGORIA'].str.contains(pattern2)]\n",
    "df2019 = df2019[~df2019['CID10 CATEGORIA'].str.contains(pattern2)]\n",
    "df2020 = df2020[~df2020['CID10 CATEGORIA'].str.contains(pattern2)]\n",
    "df2021 = df2021[~df2021['CID10 CATEGORIA'].str.contains(pattern2)]"
   ]
  },
  {
   "cell_type": "code",
   "execution_count": null,
   "id": "75cb6cc1-676c-47c0-a2e1-447dd056bfad",
   "metadata": {},
   "outputs": [],
   "source": [
    "# Seleciona as categorias desejadas\n",
    "catF = selecionaCategoria('f')\n",
    "catZ = selecionaCategoria('z')\n",
    "\n",
    "# Fornece prints para criar novos subsets com as referidas categorias\n",
    "cats = ['F', 'Z']\n",
    "for ano in range(2017, 2022):\n",
    "    for cat in cats:\n",
    "        print(f\"df{ano}_{cat} = df{ano}[df{ano}['CID10 CATEGORIA'].str.startswith(cat{cat.upper()})]\")"
   ]
  },
  {
   "cell_type": "code",
   "execution_count": null,
   "id": "7f2d5b98-a574-4065-be65-e6780b47a89e",
   "metadata": {},
   "outputs": [],
   "source": [
    "# Copia e cola o resultado acima para gerar os novos subsets\n",
    "\n",
    "df2017_F = df2017[df2017['CID10 CATEGORIA'].str.startswith(catF)]\n",
    "df2017_Z = df2017[df2017['CID10 CATEGORIA'].str.startswith(catZ)]\n",
    "df2018_F = df2018[df2018['CID10 CATEGORIA'].str.startswith(catF)]\n",
    "df2018_Z = df2018[df2018['CID10 CATEGORIA'].str.startswith(catZ)]\n",
    "df2019_F = df2019[df2019['CID10 CATEGORIA'].str.startswith(catF)]\n",
    "df2019_Z = df2019[df2019['CID10 CATEGORIA'].str.startswith(catZ)]\n",
    "df2020_F = df2020[df2020['CID10 CATEGORIA'].str.startswith(catF)]\n",
    "df2020_Z = df2020[df2020['CID10 CATEGORIA'].str.startswith(catZ)]\n",
    "df2021_F = df2021[df2021['CID10 CATEGORIA'].str.startswith(catF)]\n",
    "df2021_Z = df2021[df2021['CID10 CATEGORIA'].str.startswith(catZ)]"
   ]
  },
  {
   "cell_type": "code",
   "execution_count": null,
   "id": "82a1d6a9-24af-4d65-a222-ee849d137054",
   "metadata": {},
   "outputs": [],
   "source": [
    "# Escolhendo-se mais de duas categorias, usa-se o método concat() para unir as categorias por ano.\n",
    "d1 = pd.concat([df2017_F, df2017_Z])\n",
    "d2 = pd.concat([df2018_F, df2018_Z])\n",
    "d3 = pd.concat([df2019_F, df2019_Z])\n",
    "d4 = pd.concat([df2020_F, df2020_Z])\n",
    "d5 = pd.concat([df2021_F, df2021_Z])\n",
    "d2"
   ]
  },
  {
   "cell_type": "markdown",
   "id": "18e6ef95-d73d-4c48-bd81-f73830eb9e3d",
   "metadata": {},
   "source": [
    "## Merge para Unir os Subsets Criados"
   ]
  },
  {
   "cell_type": "code",
   "execution_count": null,
   "id": "bc1c25dd-834d-4fe6-a99b-14e291292c2c",
   "metadata": {
    "tags": []
   },
   "outputs": [],
   "source": [
    "print(d1.shape)\n",
    "print(d2.shape)\n",
    "print(d3.shape)\n",
    "print(d4.shape)\n",
    "print(d5.shape)"
   ]
  },
  {
   "cell_type": "code",
   "execution_count": null,
   "id": "80b0bda7-11fd-4f45-b246-93dd8601e47c",
   "metadata": {
    "tags": []
   },
   "outputs": [],
   "source": [
    "# Cuidado ao unir o d5 (ano de 2021), pois apresenta menos registros\n",
    "from functools import reduce\n",
    "data_frames = [d1, d2, d3, d4]\n",
    "\n",
    "#df_merged = reduce(lambda  left,right: pd.merge(left,right, left_index=True, right_index=True, how='right'), data_frames)\n",
    "    \n",
    "df_merged = reduce(lambda  left,right: pd.merge(left,right, on=['CID10 CATEGORIA'],how='right'), data_frames)\n",
    "df_merged"
   ]
  },
  {
   "cell_type": "code",
   "execution_count": null,
   "id": "16a7d1ce-7b5e-4055-94a9-7bbb28262297",
   "metadata": {},
   "outputs": [],
   "source": [
    "df_merged.isna().sum()"
   ]
  },
  {
   "cell_type": "code",
   "execution_count": null,
   "id": "25476d79-c3a6-49d3-b62d-5ab9664bb5ca",
   "metadata": {},
   "outputs": [],
   "source": [
    "# Selecionando linhas específicas\n",
    "termos = ['Neuroticos', 'ansiosos', 'maquinas']\n",
    "pattern = '|'.join(termos)\n",
    "\n",
    "df_merged[df_merged['CID10 CATEGORIA'].str.contains(pattern, case = False, na = False)]"
   ]
  },
  {
   "cell_type": "code",
   "execution_count": null,
   "id": "34f09c06-5940-414e-a5fc-aaa4db368704",
   "metadata": {},
   "outputs": [],
   "source": []
  }
 ],
 "metadata": {
  "kernelspec": {
   "display_name": "Python 3 (ipykernel)",
   "language": "python",
   "name": "python3"
  },
  "language_info": {
   "codemirror_mode": {
    "name": "ipython",
    "version": 3
   },
   "file_extension": ".py",
   "mimetype": "text/x-python",
   "name": "python",
   "nbconvert_exporter": "python",
   "pygments_lexer": "ipython3",
   "version": "3.9.12"
  }
 },
 "nbformat": 4,
 "nbformat_minor": 5
}
